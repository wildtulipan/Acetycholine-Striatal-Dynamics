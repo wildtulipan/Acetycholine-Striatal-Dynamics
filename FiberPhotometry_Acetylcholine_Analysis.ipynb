{
  "nbformat": 4,
  "nbformat_minor": 0,
  "metadata": {
    "colab": {
      "provenance": [],
      "machine_shape": "hm",
      "authorship_tag": "ABX9TyOQEiiglTDbErA98jS60Yx0",
      "include_colab_link": true
    },
    "kernelspec": {
      "name": "python3",
      "display_name": "Python 3"
    },
    "language_info": {
      "name": "python"
    }
  },
  "cells": [
    {
      "cell_type": "markdown",
      "metadata": {
        "id": "view-in-github",
        "colab_type": "text"
      },
      "source": [
        "<a href=\"https://colab.research.google.com/github/wildtulipan/Acetycholine-Striatal-Dynamics/blob/main/FiberPhotometry_Acetylcholine_Analysis.ipynb\" target=\"_parent\"><img src=\"https://colab.research.google.com/assets/colab-badge.svg\" alt=\"Open In Colab\"/></a>"
      ]
    },
    {
      "cell_type": "markdown",
      "source": [
        "# Acetylcholine Photometry"
      ],
      "metadata": {
        "id": "zIl-vW7qXKL_"
      }
    },
    {
      "cell_type": "markdown",
      "source": [
        "## Set up\n",
        "Run this section before running everythin else"
      ],
      "metadata": {
        "id": "bNIS6u6tVymn"
      }
    },
    {
      "cell_type": "code",
      "execution_count": 72,
      "metadata": {
        "id": "HGN4UEDdVPXA",
        "cellView": "form"
      },
      "outputs": [],
      "source": [
        "#@title Load Dependencies\n",
        "import numpy as np\n",
        "import pandas as pd\n",
        "import matplotlib.pyplot as plt\n",
        "import seaborn as sns\n",
        "import os\n",
        "import re\n",
        "from google.colab import drive\n",
        "from scipy.signal import butter, filtfilt\n",
        "from scipy.stats import linregress\n",
        "from tqdm import tqdm\n",
        "\n"
      ]
    },
    {
      "cell_type": "code",
      "source": [
        "#@title Helper Functions\n",
        "def parse_photometry_data(path):\n",
        "    \"\"\"\n",
        "    Parses fiber photometry data from a directory structure and organizes it into a nested dictionary.\n",
        "    The function expects folders with names containing animal ID, cell type, experiment, and session information\n",
        "    in a specific format (10 underscore-separated parts). Each folder should contain:\n",
        "    - Events.csv\n",
        "    - Fluorescence-unaligned.csv\n",
        "    - Fluorescence.csv\n",
        "    - Outputs.csv\n",
        "\n",
        "    Args:\n",
        "        path (str): Path to the root directory containing photometry data folders\n",
        "\n",
        "    Returns:\n",
        "        dict: {animal_id: {'cell_type': str, experiment: {session: {data_files...}}}\n",
        "                      where data_files includes all CSV contents as DataFrames\n",
        "    Raises:\n",
        "        SystemExit: If the specified directory doesn't exist\n",
        "    \"\"\"\n",
        "\n",
        "    photometry_data_dict = {}\n",
        "    photomerty_path = os.path.join(path, 'Fiber_Photometry')\n",
        "    behavior_path = os.path.join(path, 'Behavior')\n",
        "\n",
        "    # Check if path exists\n",
        "    if not os.path.exists(path):\n",
        "        print(\"Error: Directory doesn't exist\")\n",
        "        exit()\n",
        "\n",
        "    print(\"\\nFound folders:\")\n",
        "    print(\"ID\\tCell\\tExperiment\\tSession\")  # \\t makes tab spacing\n",
        "    print(\"-\" * 40)\n",
        "\n",
        "    # Go through each item in the folder\n",
        "    for folder in os.listdir(photomerty_path):\n",
        "        full_path = os.path.join(photomerty_path, folder)\n",
        "\n",
        "        # Only process if it's a folder\n",
        "        if os.path.isdir(full_path):\n",
        "            parts = folder.split('_')\n",
        "\n",
        "            # Check if folder name has enough parts\n",
        "            if len(parts) == 10:\n",
        "                # Get the parts we care about\n",
        "                animal_id = int(parts[6])\n",
        "                cell_type = str(parts[7])\n",
        "                experiment = str(parts[8])\n",
        "                session = int(parts[9])\n",
        "\n",
        "                # Print the info with tab spacing\n",
        "                print(f\"{animal_id}\\t{cell_type}\\t{experiment}\\t\\t{session}\")\n",
        "\n",
        "                # Extract the files\n",
        "                Events = pd.read_csv(os.path.join(full_path, 'Events.csv'))\n",
        "                Fluorescence_unaligned = pd.read_csv(os.path.join(full_path, 'Fluorescence-unaligned.csv'))\n",
        "                Fluorescence = pd.read_csv(os.path.join(full_path, 'Fluorescence.csv'))\n",
        "                Outputs = pd.read_csv(os.path.join(full_path, 'Outputs.csv'))\n",
        "\n",
        "                # Set up the data format\n",
        "                if animal_id not in photometry_data_dict:\n",
        "                    photometry_data_dict[animal_id] = {}\n",
        "                    photometry_data_dict[animal_id]['cell_type'] = cell_type\n",
        "                if experiment not in photometry_data_dict[animal_id]:\n",
        "                    photometry_data_dict[animal_id][experiment] = {}\n",
        "                if session not in photometry_data_dict[animal_id][experiment]:\n",
        "                    photometry_data_dict[animal_id][experiment][session] = {\n",
        "                        'Events': Events,\n",
        "                        'Fluorescence-unaligned': Fluorescence_unaligned,\n",
        "                        'Fluorescence': Fluorescence,\n",
        "                        'Outputs': Outputs\n",
        "                    }\n",
        "\n",
        "    return photometry_data_dict\n",
        "\n",
        "\n",
        "def bandpass_filter_signal(signal, lowcut, highcut, fs, order=4):\n",
        "    \"\"\"\n",
        "    Apply a zero-phase Butterworth bandpass filter to a signal.\n",
        "\n",
        "    Args:\n",
        "        signal (np.ndarray): Input signal (1D array)\n",
        "        lowcut (float): Lower cutoff frequency (Hz)\n",
        "        highcut (float): Upper cutoff frequency (Hz)\n",
        "        fs (float): Sampling rate (Hz)\n",
        "        order (int): Filter order\n",
        "\n",
        "    Returns:\n",
        "        np.ndarray: Filtered signal\n",
        "    \"\"\"\n",
        "    # Normalize frequencies by Nyquist (fs/2)\n",
        "    nyquist = 0.5 * fs\n",
        "    low = lowcut / nyquist\n",
        "    high = highcut / nyquist\n",
        "\n",
        "    # Design Butterworth bandpass filter\n",
        "    b, a = butter(order, [low, high], btype='band')\n",
        "\n",
        "    # Apply zero-phase filtering (filtfilt avoids phase distortion)\n",
        "    filtered_signal = filtfilt(b, a, signal)\n",
        "\n",
        "    return filtered_signal\n",
        "\n",
        "def process_photometry_data(photometry_data_dict, lowcut=0.3, highcut=5, fs=15):\n",
        "    \"\"\"\n",
        "    Processes photometry data by:\n",
        "    1. Aligning 470nm and 410nm signals\n",
        "    2. Applying bandpass filtering\n",
        "    3. Performing motion correction via linear regression\n",
        "    4. Storing all results in the input dictionary\n",
        "\n",
        "    Args:\n",
        "        photometry_data_dict (dict): Nested photometry data structure\n",
        "        lowcut (float): Low cutoff frequency for bandpass filter\n",
        "        highcut (float): High cutoff frequency for bandpass filter\n",
        "        fs (float): Sampling rate in Hz\n",
        "\n",
        "    Returns:\n",
        "        dict: Modified photometry_data_dict with added processed data\n",
        "    \"\"\"\n",
        "\n",
        "    # Initialize progress bar (optional)\n",
        "    total_sessions = sum(len(exp) for animal in photometry_data_dict.values()\n",
        "                        for exp in animal.values() if isinstance(exp, dict))\n",
        "\n",
        "    with tqdm(total=total_sessions, desc=\"Processing sessions\") as pbar:\n",
        "        for animal_id, animal_data in photometry_data_dict.items():\n",
        "            cell_type = animal_data['cell_type']\n",
        "\n",
        "            for experiment_name, sessions in animal_data.items():\n",
        "                if experiment_name == 'cell_type':\n",
        "                    continue\n",
        "\n",
        "                for session_num, session_data in sessions.items():\n",
        "                    # Update progress bar\n",
        "                    pbar.set_postfix({\n",
        "                        'Animal': animal_id,\n",
        "                        'Experiment': experiment_name,\n",
        "                        'Session': session_num\n",
        "                    })\n",
        "                    pbar.update(1)\n",
        "\n",
        "                    # Get raw fluorescence data\n",
        "                    fluo_unaligned = session_data['Fluorescence-unaligned']\n",
        "\n",
        "                    try:\n",
        "                        # Extract and align signals\n",
        "                        fluorescence_470 = np.array(fluo_unaligned['Channel1'][fluo_unaligned['Lights'] == 470])\n",
        "                        fluorescence_410 = np.array(fluo_unaligned['Channel1'][fluo_unaligned['Lights'] == 410])\n",
        "                        min_length = min(len(fluorescence_470), len(fluorescence_410))\n",
        "                        fluorescence_470 = fluorescence_470[:min_length]\n",
        "                        fluorescence_410 = fluorescence_410[:min_length]\n",
        "\n",
        "                        # Filter signals\n",
        "                        fluorescence_470_filt = bandpass_filter_signal(\n",
        "                            fluorescence_470, lowcut=lowcut, highcut=highcut, fs=fs\n",
        "                        )\n",
        "                        fluorescence_410_filt = bandpass_filter_signal(\n",
        "                            fluorescence_410, lowcut=lowcut, highcut=highcut, fs=fs\n",
        "                        )\n",
        "\n",
        "                        # Motion correction\n",
        "                        slope, intercept, r_value, p_value, std_err = linregress(\n",
        "                            x=fluorescence_410_filt,\n",
        "                            y=fluorescence_470_filt\n",
        "                        )\n",
        "                        fluorescence_470_est_motion = intercept + slope * fluorescence_410_filt\n",
        "                        fluorescence_470_corrected = fluorescence_470_filt - fluorescence_470_est_motion\n",
        "\n",
        "                        # Store all processed data\n",
        "                        session_data['processed'] = {\n",
        "                            'corrected': fluorescence_470_corrected,\n",
        "                            'est_motion': fluorescence_470_est_motion,\n",
        "                            '470_filt': fluorescence_470_filt,\n",
        "                            '410_filt': fluorescence_410_filt,\n",
        "                            '470_raw': fluorescence_470,\n",
        "                            '410_raw': fluorescence_410,\n",
        "                            'regression_params': {\n",
        "                                'slope': slope,\n",
        "                                'intercept': intercept,\n",
        "                                'r_value': r_value,\n",
        "                                'p_value': p_value,\n",
        "                                'std_err': std_err\n",
        "                            }\n",
        "                        }\n",
        "\n",
        "                    except Exception as e:\n",
        "                        print(f\"Error processing {animal_id}/{experiment_name}/{session_num}: {str(e)}\")\n",
        "                        continue\n",
        "\n",
        "    return photometry_data_dict"
      ],
      "metadata": {
        "id": "fCSsWyXNV9yW",
        "cellView": "form"
      },
      "execution_count": 73,
      "outputs": []
    },
    {
      "cell_type": "code",
      "source": [
        "# @title Mount Google Drive\n",
        "drive.mount('/content/drive')\n",
        "notebook_path = '/content/drive/MyDrive/Research/Striatum_Acetylcholine'\n",
        "print(\"Notebook is in:\", notebook_path)\n",
        "os.chdir(notebook_path) # Set it as the working directory\n",
        "print(\"Working directory set to notebook's location.\")"
      ],
      "metadata": {
        "colab": {
          "base_uri": "https://localhost:8080/"
        },
        "cellView": "form",
        "id": "aqmVMzOaWFfW",
        "outputId": "22fff38a-1860-4809-c0c9-a9d1c8576f01"
      },
      "execution_count": 74,
      "outputs": [
        {
          "output_type": "stream",
          "name": "stdout",
          "text": [
            "Drive already mounted at /content/drive; to attempt to forcibly remount, call drive.mount(\"/content/drive\", force_remount=True).\n",
            "Notebook is in: /content/drive/MyDrive/Research/Striatum_Acetylcholine\n",
            "Working directory set to notebook's location.\n"
          ]
        }
      ]
    },
    {
      "cell_type": "code",
      "source": [
        "#@title Data Loader\n",
        "path = \"/content/drive/MyDrive/Research/Striatum_Acetylcholine/Data\"\n",
        "photometry_data_dict = parse_photometry_data(path)\n",
        "photometry_data_dict = process_photometry_data(photometry_data_dict)"
      ],
      "metadata": {
        "colab": {
          "base_uri": "https://localhost:8080/"
        },
        "cellView": "form",
        "id": "JOBRmj9nZ_sR",
        "outputId": "3e5fe7ba-12a3-416e-b98b-2135abeb2a12"
      },
      "execution_count": 75,
      "outputs": [
        {
          "output_type": "stream",
          "name": "stdout",
          "text": [
            "\n",
            "Found folders:\n",
            "ID\tCell\tExperiment\tSession\n",
            "----------------------------------------\n",
            "8620\tA2a\tUR\t\t1\n",
            "8620\tA2a\tAQ\t\t1\n",
            "8620\tA2a\tAQ\t\t9\n",
            "8620\tA2a\tAQ\t\t10\n",
            "8620\tA2a\tUP\t\t1\n",
            "8620\tA2a\tUP\t\t3\n",
            "8620\tA2a\tUP\t\t2\n"
          ]
        },
        {
          "output_type": "stream",
          "name": "stderr",
          "text": [
            "Processing sessions: 100%|██████████| 7/7 [00:00<00:00, 138.35it/s, Animal=8620, Experiment=UP, Session=2]\n"
          ]
        }
      ]
    },
    {
      "cell_type": "markdown",
      "source": [
        "## Analysis"
      ],
      "metadata": {
        "id": "eymNNjAGXRMP"
      }
    },
    {
      "cell_type": "code",
      "source": [
        "#@title Preprocesing Figures\n",
        "\n",
        "# This cell generate figures to better"
      ],
      "metadata": {
        "id": "QCulXBgTeFQ-"
      },
      "execution_count": 76,
      "outputs": []
    }
  ]
}